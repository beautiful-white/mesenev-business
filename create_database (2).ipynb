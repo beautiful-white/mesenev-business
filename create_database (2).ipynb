{
  "cells": [
    {
      "cell_type": "code",
      "execution_count": null,
      "id": "8394c8c4",
      "metadata": {
        "id": "8394c8c4"
      },
      "outputs": [],
      "source": [
        "import sqlite3 as sq"
      ]
    },
    {
      "cell_type": "code",
      "execution_count": null,
      "id": "23c453b4",
      "metadata": {
        "id": "23c453b4"
      },
      "outputs": [],
      "source": [
        "conn = sq.connect('space_tourism.db')\n",
        "cursor = conn.cursor()"
      ]
    },
    {
      "cell_type": "code",
      "execution_count": null,
      "id": "4484621b",
      "metadata": {
        "colab": {
          "base_uri": "https://localhost:8080/"
        },
        "id": "4484621b",
        "outputId": "e2d0006f-deb7-4f6e-cd69-26994edb79cb"
      },
      "outputs": [
        {
          "output_type": "stream",
          "name": "stdout",
          "text": [
            "All tables created successfully in space_tourism.db!\n"
          ]
        }
      ],
      "source": [
        "\n",
        "try:\n",
        "    # Create tables in proper order to handle foreign key dependencies\n",
        "    cursor.execute('''\n",
        "    CREATE TABLE IF NOT EXISTS \"statuses\" (\n",
        "        \"id\" INTEGER NOT NULL UNIQUE,\n",
        "        \"name\" VARCHAR NOT NULL UNIQUE,\n",
        "        PRIMARY KEY(\"id\")\n",
        "    )\n",
        "    ''')\n",
        "\n",
        "    cursor.execute('''\n",
        "    CREATE TABLE IF NOT EXISTS \"positions\" (\n",
        "        \"id\" INTEGER NOT NULL UNIQUE,\n",
        "        \"name\" VARCHAR NOT NULL UNIQUE,\n",
        "        \"salary\" INTEGER NOT NULL,\n",
        "        PRIMARY KEY(\"id\")\n",
        "    )\n",
        "    ''')\n",
        "\n",
        "    cursor.execute('''\n",
        "    CREATE TABLE IF NOT EXISTS \"space_objects\" (\n",
        "        \"id\" INTEGER NOT NULL UNIQUE,\n",
        "        \"name\" VARCHAR NOT NULL,\n",
        "        PRIMARY KEY(\"id\")\n",
        "    )\n",
        "    ''')\n",
        "\n",
        "    cursor.execute('''\n",
        "    CREATE TABLE IF NOT EXISTS \"airports\" (\n",
        "        \"id\" INTEGER NOT NULL UNIQUE,\n",
        "        \"name\" VARCHAR NOT NULL,\n",
        "        PRIMARY KEY(\"id\")\n",
        "    )\n",
        "    ''')\n",
        "\n",
        "    cursor.execute('''\n",
        "    CREATE TABLE IF NOT EXISTS \"products\" (\n",
        "        \"id\" INTEGER NOT NULL UNIQUE,\n",
        "        \"product\" VARCHAR NOT NULL,\n",
        "        \"price\" INTEGER NOT NULL,\n",
        "        PRIMARY KEY(\"id\")\n",
        "    )\n",
        "    ''')\n",
        "\n",
        "    cursor.execute('''\n",
        "    CREATE TABLE IF NOT EXISTS \"reasons\" (\n",
        "        \"id\" INTEGER NOT NULL UNIQUE,\n",
        "        \"name\" VARCHAR NOT NULL UNIQUE,\n",
        "        \"cost\" INTEGER NOT NULL,\n",
        "        \"product_id\" INTEGER NOT NULL,\n",
        "        \"count\" INTEGER NOT NULL,\n",
        "        PRIMARY KEY(\"id\"),\n",
        "        FOREIGN KEY (\"product_id\") REFERENCES \"products\"(\"id\")\n",
        "        ON UPDATE NO ACTION ON DELETE NO ACTION\n",
        "    )\n",
        "    ''')\n",
        "\n",
        "    cursor.execute('''\n",
        "    CREATE TABLE IF NOT EXISTS \"spaceships\" (\n",
        "        \"id\" INTEGER NOT NULL UNIQUE,\n",
        "        \"name\" VARCHAR NOT NULL,\n",
        "        \"status_id\" INTEGER NOT NULL,\n",
        "        \"human_places\" INTEGER NOT NULL,\n",
        "        \"petrol_tank_size\" INTEGER NOT NULL,\n",
        "        PRIMARY KEY(\"id\"),\n",
        "        FOREIGN KEY (\"status_id\") REFERENCES \"statuses\"(\"id\")\n",
        "        ON UPDATE NO ACTION ON DELETE NO ACTION\n",
        "    )\n",
        "    ''')\n",
        "\n",
        "    cursor.execute('''\n",
        "    CREATE TABLE IF NOT EXISTS \"clients\" (\n",
        "        \"id\" INTEGER NOT NULL UNIQUE,\n",
        "        \"name\" VARCHAR NOT NULL,\n",
        "        \"surname\" VARCHAR NOT NULL,\n",
        "        PRIMARY KEY(\"id\")\n",
        "    )\n",
        "    ''')\n",
        "\n",
        "    cursor.execute('''\n",
        "    CREATE TABLE IF NOT EXISTS \"tours\" (\n",
        "        \"id\" INTEGER NOT NULL UNIQUE,\n",
        "        \"name\" VARCHAR NOT NULL,\n",
        "        \"obj_id\" INTEGER NOT NULL,\n",
        "        \"airport_id\" INTEGER NOT NULL,\n",
        "        \"spaceship_id\" INTEGER NOT NULL,\n",
        "        \"cost\" INTEGER NOT NULL,\n",
        "        \"date\" DATE NOT NULL,\n",
        "        PRIMARY KEY(\"id\"),\n",
        "        FOREIGN KEY (\"airport_id\") REFERENCES \"airports\"(\"id\")\n",
        "        ON UPDATE NO ACTION ON DELETE NO ACTION,\n",
        "        FOREIGN KEY (\"spaceship_id\") REFERENCES \"spaceships\"(\"id\")\n",
        "        ON UPDATE NO ACTION ON DELETE NO ACTION,\n",
        "        FOREIGN KEY (\"obj_id\") REFERENCES \"space_objects\"(\"id\")\n",
        "        ON UPDATE NO ACTION ON DELETE NO ACTION\n",
        "    )\n",
        "    ''')\n",
        "\n",
        "    cursor.execute('''\n",
        "    CREATE TABLE IF NOT EXISTS \"employees\" (\n",
        "        \"id\" INTEGER NOT NULL UNIQUE,\n",
        "        \"name\" VARCHAR NOT NULL,\n",
        "        \"surname\" VARCHAR NOT NULL,\n",
        "        \"tour_id\" INTEGER,\n",
        "        \"position_id\" INTEGER NOT NULL,\n",
        "        PRIMARY KEY(\"id\"),\n",
        "        FOREIGN KEY (\"tour_id\") REFERENCES \"tours\"(\"id\")\n",
        "        ON UPDATE NO ACTION ON DELETE NO ACTION,\n",
        "        FOREIGN KEY (\"position_id\") REFERENCES \"positions\"(\"id\")\n",
        "        ON UPDATE NO ACTION ON DELETE NO ACTION\n",
        "    )\n",
        "    ''')\n",
        "\n",
        "    cursor.execute('''\n",
        "    CREATE TABLE IF NOT EXISTS \"maintain_employees\" (\n",
        "        \"id\" INTEGER NOT NULL UNIQUE,\n",
        "        \"name\" VARCHAR NOT NULL,\n",
        "        \"surname\" VARCHAR NOT NULL,\n",
        "        \"ticket_id\" INTEGER DEFAULT NULL,\n",
        "        \"position_id\" INTEGER NOT NULL,\n",
        "        PRIMARY KEY(\"id\"),\n",
        "        FOREIGN KEY (\"position_id\") REFERENCES \"positions\"(\"id\")\n",
        "        ON UPDATE NO ACTION ON DELETE NO ACTION\n",
        "    )\n",
        "    ''')\n",
        "\n",
        "    cursor.execute('''\n",
        "    CREATE TABLE IF NOT EXISTS \"maintain_tickets\" (\n",
        "        \"id\" INTEGER NOT NULL UNIQUE,\n",
        "        \"spaceship_id\" INTEGER NOT NULL,\n",
        "        \"reason_id\" INTEGER NOT NULL,\n",
        "        PRIMARY KEY(\"id\"),\n",
        "        FOREIGN KEY (\"reason_id\") REFERENCES \"reasons\"(\"id\")\n",
        "        ON UPDATE NO ACTION ON DELETE NO ACTION,\n",
        "        FOREIGN KEY (\"spaceship_id\") REFERENCES \"spaceships\"(\"id\")\n",
        "        ON UPDATE NO ACTION ON DELETE NO ACTION,\n",
        "        FOREIGN KEY (\"id\") REFERENCES \"maintain_employees\"(\"ticket_id\")\n",
        "        ON UPDATE NO ACTION ON DELETE NO ACTION\n",
        "    )\n",
        "    ''')\n",
        "\n",
        "    cursor.execute('''\n",
        "    CREATE TABLE IF NOT EXISTS \"tour_tickets\" (\n",
        "        \"tour_id\" INTEGER NOT NULL,\n",
        "        \"price\" INTEGER NOT NULL,\n",
        "        \"client_id\" INTEGER NOT NULL,\n",
        "        FOREIGN KEY (\"client_id\") REFERENCES \"clients\"(\"id\")\n",
        "        ON UPDATE NO ACTION ON DELETE NO ACTION,\n",
        "        FOREIGN KEY (\"tour_id\") REFERENCES \"tours\"(\"id\")\n",
        "        ON UPDATE NO ACTION ON DELETE NO ACTION\n",
        "    )\n",
        "    ''')\n",
        "\n",
        "    cursor.execute('''\n",
        "    CREATE TABLE IF NOT EXISTS \"reviews\" (\n",
        "        \"text\" VARCHAR NOT NULL,\n",
        "        \"client_id\" INTEGER NOT NULL,\n",
        "        \"tour_id\" INTEGER NOT NULL,\n",
        "        \"date\" DATE NOT NULL,\n",
        "        FOREIGN KEY (\"client_id\") REFERENCES \"clients\"(\"id\")\n",
        "        ON UPDATE NO ACTION ON DELETE NO ACTION,\n",
        "        FOREIGN KEY (\"tour_id\") REFERENCES \"tours\"(\"id\")\n",
        "        ON UPDATE NO ACTION ON DELETE NO ACTION\n",
        "    )\n",
        "    ''')\n",
        "\n",
        "    cursor.execute('''\n",
        "    CREATE TABLE IF NOT EXISTS \"candidats\" (\n",
        "        \"id\" INTEGER NOT NULL UNIQUE,\n",
        "        \"name\" VARCHAR NOT NULL,\n",
        "        \"surname\" VARCHAR NOT NULL,\n",
        "        \"position_id\" INTEGER NOT NULL,\n",
        "        \"mark\" INTEGER NOT NULL,\n",
        "        PRIMARY KEY(\"id\"),\n",
        "        FOREIGN KEY (\"position_id\") REFERENCES \"positions\"(\"id\")\n",
        "        ON UPDATE NO ACTION ON DELETE NO ACTION\n",
        "    )\n",
        "    ''')\n",
        "\n",
        "    # Commit the changes\n",
        "    conn.commit()\n",
        "    print(\"All tables created successfully in space_tourism.db!\")\n",
        "\n",
        "except sq.Error as e:\n",
        "    print(f\"An error occurred: {e}\")\n",
        "\n",
        "finally:\n",
        "    # Close the connection\n",
        "    conn.close()"
      ]
    },
    {
      "cell_type": "code",
      "execution_count": null,
      "id": "94fc1a59",
      "metadata": {
        "id": "94fc1a59"
      },
      "outputs": [],
      "source": [
        "conn.close()"
      ]
    },
    {
      "cell_type": "code",
      "execution_count": null,
      "id": "612f74c6",
      "metadata": {
        "colab": {
          "base_uri": "https://localhost:8080/"
        },
        "id": "612f74c6",
        "outputId": "43d6091e-c258-4f60-deb6-2888fafec2da"
      },
      "outputs": [
        {
          "output_type": "stream",
          "name": "stdout",
          "text": [
            "Successfully generated and inserted mock data!\n"
          ]
        }
      ],
      "source": [
        "import sqlite3\n",
        "import random\n",
        "from datetime import datetime, timedelta\n",
        "\n",
        "def generate_mock_data():\n",
        "    conn = sqlite3.connect('space_tourism.db')\n",
        "    cursor = conn.cursor()\n",
        "\n",
        "    try:\n",
        "        # Clear existing data (optional)\n",
        "        cursor.execute(\"PRAGMA foreign_keys = OFF\")\n",
        "        tables = [\"reviews\", \"tour_tickets\", \"maintain_employees\", \"maintain_tickets\",\n",
        "                \"employees\", \"tours\", \"clients\", \"spaceships\", \"airports\",\n",
        "                \"space_objects\", \"reasons\", \"products\", \"positions\", \"statuses\",\n",
        "                \"candidats\"]\n",
        "        for table in tables:\n",
        "            cursor.execute(f\"DELETE FROM {table}\")\n",
        "        cursor.execute(\"PRAGMA foreign_keys = ON\")\n",
        "\n",
        "        # 1. Statuses\n",
        "        statuses = [\n",
        "            (1, \"Ready\"),\n",
        "            (2, \"Maintenance\"),\n",
        "            (3, \"In Flight\"),\n",
        "            (4, \"Retired\")\n",
        "        ]\n",
        "        cursor.executemany(\"INSERT INTO statuses VALUES (?, ?)\", statuses)\n",
        "\n",
        "        # 2. Positions\n",
        "        positions = [\n",
        "            (1, \"Pilot\", 100000),\n",
        "            (2, \"Co-Pilot\", 80000),\n",
        "            (3, \"Flight Attendant\", 50000),\n",
        "            (4, \"Engineer\", 90000),\n",
        "            (5, \"Mechanic\", 60000),\n",
        "            (6, \"Tour Guide\", 45000)\n",
        "        ]\n",
        "        cursor.executemany(\"INSERT INTO positions VALUES (?, ?, ?)\", positions)\n",
        "\n",
        "        # 3. Space Objects\n",
        "        space_objects = [\n",
        "            (1, \"Moon\"),\n",
        "            (2, \"Mars\"),\n",
        "            (3, \"International Space Station\"),\n",
        "            (4, \"Venus Orbit\"),\n",
        "            (5, \"Jupiter Flyby\")\n",
        "        ]\n",
        "        cursor.executemany(\"INSERT INTO space_objects VALUES (?, ?)\", space_objects)\n",
        "\n",
        "        # 4. Airports\n",
        "        airports = [\n",
        "            (1, \"Starport Alpha\"),\n",
        "            (2, \"Cosmodrome Beta\"),\n",
        "            (3, \"Galactic Central\"),\n",
        "            (4, \"Orbital One\")\n",
        "        ]\n",
        "        cursor.executemany(\"INSERT INTO airports VALUES (?, ?)\", airports)\n",
        "\n",
        "        # 5. Products\n",
        "        products = [\n",
        "            (1, \"Engine Parts\", 5000),\n",
        "            (2, \"Life Support System\", 12000),\n",
        "            (3, \"Navigation Computer\", 8000),\n",
        "            (4, \"Hull Plating\", 3000)\n",
        "        ]\n",
        "        cursor.executemany(\"INSERT INTO products VALUES (?, ?, ?)\", products)\n",
        "\n",
        "        # 6. Reasons\n",
        "        reasons = [\n",
        "            (1, \"Engine Overhaul\", 25000, 1, 1),\n",
        "            (2, \"Life Support Maintenance\", 18000, 2, 1),\n",
        "            (3, \"Navigation System Upgrade\", 15000, 3, 1),\n",
        "            (4, \"Hull Repair\", 9000, 4, 3)\n",
        "        ]\n",
        "        cursor.executemany(\"INSERT INTO reasons VALUES (?, ?, ?, ?, ?)\", reasons)\n",
        "\n",
        "        # 7. Spaceships\n",
        "        spaceships = [\n",
        "            (1, \"Star Voyager\", 1, 50, 5000),\n",
        "            (2, \"Galactic Cruiser\", 1, 75, 7500),\n",
        "            (3, \"Cosmic Explorer\", 2, 30, 4000),\n",
        "            (4, \"Orbital Shuttle\", 1, 20, 3000)\n",
        "        ]\n",
        "        cursor.executemany(\"INSERT INTO spaceships VALUES (?, ?, ?, ?, ?)\", spaceships)\n",
        "\n",
        "        # 8. Clients\n",
        "        clients = []\n",
        "        first_names = [\"John\", \"Emma\", \"Michael\", \"Sophia\", \"William\", \"Olivia\"]\n",
        "        last_names = [\"Smith\", \"Johnson\", \"Williams\", \"Brown\", \"Jones\", \"Garcia\"]\n",
        "        for i in range(1, 21):\n",
        "            clients.append((\n",
        "                i,\n",
        "                random.choice(first_names),\n",
        "                random.choice(last_names)\n",
        "            ))\n",
        "        cursor.executemany(\"INSERT INTO clients VALUES (?, ?, ?)\", clients)\n",
        "\n",
        "        # 9. Tours\n",
        "        tours = []\n",
        "        tour_names = [\n",
        "            \"Lunar Getaway\",\n",
        "            \"Mars Expedition\",\n",
        "            \"ISS Experience\",\n",
        "            \"Venus Sightseeing\",\n",
        "            \"Jupiter Adventure\"\n",
        "        ]\n",
        "        start_date = datetime.now() + timedelta(days=10)\n",
        "        for i in range(1, 11):\n",
        "            tour_date = start_date + timedelta(days=random.randint(0, 90))\n",
        "            tours.append((\n",
        "                i,\n",
        "                random.choice(tour_names),\n",
        "                random.randint(1, 5),  # obj_id\n",
        "                random.randint(1, 4),  # airport_id\n",
        "                random.randint(1, 4),  # spaceship_id\n",
        "                random.randint(5000, 20000),  # cost\n",
        "                tour_date.strftime(\"%Y-%m-%d\")  # date\n",
        "            ))\n",
        "        cursor.executemany(\"INSERT INTO tours VALUES (?, ?, ?, ?, ?, ?, ?)\", tours)\n",
        "\n",
        "        # 10. Employees\n",
        "        employees = []\n",
        "        emp_first_names = [\"David\", \"Sarah\", \"Robert\", \"Jennifer\", \"James\", \"Lisa\"]\n",
        "        emp_last_names = [\"Miller\", \"Davis\", \"Wilson\", \"Anderson\", \"Thomas\", \"Taylor\"]\n",
        "        for i in range(1, 16):\n",
        "            employees.append((\n",
        "                i,\n",
        "                random.choice(emp_first_names),\n",
        "                random.choice(emp_last_names),\n",
        "                random.randint(1, 10) if random.random() > 0.3 else None,  # tour_id\n",
        "                random.randint(1, 6)  # position_id\n",
        "            ))\n",
        "        cursor.executemany(\"INSERT INTO employees VALUES (?, ?, ?, ?, ?)\", employees)\n",
        "\n",
        "        # 11. Maintain Employees\n",
        "        maint_employees = []\n",
        "        for i in range(1, 6):\n",
        "            maint_employees.append((\n",
        "                i,\n",
        "                random.choice(emp_first_names),\n",
        "                random.choice(emp_last_names),\n",
        "                None,  # ticket_id will be set after maintain_tickets\n",
        "                random.choice([4, 5])  # position_id (engineer or mechanic)\n",
        "            ))\n",
        "        cursor.executemany(\"INSERT INTO maintain_employees VALUES (?, ?, ?, ?, ?)\", maint_employees)\n",
        "\n",
        "        # 12. Maintain Tickets\n",
        "        maintain_tickets = []\n",
        "        for i in range(1, 6):\n",
        "            maintain_tickets.append((\n",
        "                i,\n",
        "                random.randint(1, 4),  # spaceship_id\n",
        "                random.randint(1, 4)  # reason_id\n",
        "            ))\n",
        "        cursor.executemany(\"INSERT INTO maintain_tickets VALUES (?, ?, ?)\", maintain_tickets)\n",
        "\n",
        "        # Update maintain_employees with ticket_ids\n",
        "        for i in range(1, 6):\n",
        "            cursor.execute(\"UPDATE maintain_employees SET ticket_id = ? WHERE id = ?\", (i, i))\n",
        "\n",
        "        # 13. Tour Tickets\n",
        "        tour_tickets = []\n",
        "        for i in range(1, 31):\n",
        "            tour_tickets.append((\n",
        "                random.randint(1, 10),  # tour_id\n",
        "                random.randint(4500, 22000),  # price\n",
        "                random.randint(1, 20)  # client_id\n",
        "            ))\n",
        "        cursor.executemany(\"INSERT INTO tour_tickets VALUES (?, ?, ?)\", tour_tickets)\n",
        "\n",
        "        # 14. Reviews\n",
        "        reviews = []\n",
        "        review_texts = [\n",
        "            \"Amazing experience!\",\n",
        "            \"Once in a lifetime opportunity.\",\n",
        "            \"The food could be better.\",\n",
        "            \"Worth every penny!\",\n",
        "            \"The crew was fantastic.\",\n",
        "            \"Some technical issues during flight.\"\n",
        "        ]\n",
        "        for i in range(1, 21):\n",
        "            review_date = (datetime.now() - timedelta(days=random.randint(1, 30))).strftime(\"%Y-%m-%d\")\n",
        "            reviews.append((\n",
        "                random.choice(review_texts),\n",
        "                random.randint(1, 20),  # client_id\n",
        "                random.randint(1, 10),  # tour_id\n",
        "                review_date\n",
        "            ))\n",
        "        cursor.executemany(\"INSERT INTO reviews VALUES (?, ?, ?, ?)\", reviews)\n",
        "\n",
        "        # 15. Candidates\n",
        "        candidates = []\n",
        "        for i in range(1, 11):\n",
        "            candidates.append((\n",
        "                i,\n",
        "                random.choice(emp_first_names),\n",
        "                random.choice(emp_last_names),\n",
        "                random.randint(1, 6),  # position_id\n",
        "                random.randint(3, 10)  # mark\n",
        "            ))\n",
        "        cursor.executemany(\"INSERT INTO candidats VALUES (?, ?, ?, ?, ?)\", candidates)\n",
        "\n",
        "        conn.commit()\n",
        "        print(\"Successfully generated and inserted mock data!\")\n",
        "\n",
        "    except sqlite3.Error as e:\n",
        "        print(f\"Error generating mock data: {e}\")\n",
        "    finally:\n",
        "        conn.close()\n",
        "\n",
        "if __name__ == \"__main__\":\n",
        "    generate_mock_data()"
      ]
    },
    {
      "cell_type": "code",
      "execution_count": null,
      "id": "7994c8eb",
      "metadata": {
        "id": "7994c8eb"
      },
      "outputs": [],
      "source": [
        "conn.close()"
      ]
    },
    {
      "cell_type": "code",
      "execution_count": null,
      "id": "bd32e3b8",
      "metadata": {
        "id": "bd32e3b8"
      },
      "outputs": [],
      "source": []
    },
    {
      "cell_type": "code",
      "execution_count": null,
      "id": "562f7acd",
      "metadata": {
        "id": "562f7acd"
      },
      "outputs": [],
      "source": []
    },
    {
      "cell_type": "code",
      "execution_count": null,
      "id": "55b50a7a",
      "metadata": {
        "id": "55b50a7a"
      },
      "outputs": [],
      "source": [
        "conn = sq.connect('space_tourism.db')\n",
        "cursor = conn.cursor()"
      ]
    },
    {
      "cell_type": "code",
      "execution_count": null,
      "id": "a2fc7121",
      "metadata": {
        "colab": {
          "base_uri": "https://localhost:8080/"
        },
        "id": "a2fc7121",
        "outputId": "26dc7687-83b7-4610-e9a1-90467e2c3d8e"
      },
      "outputs": [
        {
          "output_type": "execute_result",
          "data": {
            "text/plain": [
              "[('Mars Expedition', '2025-07-15,2025-07-05', 17365.5, 4),\n",
              " ('Venus Sightseeing', '2025-05-23,2025-06-25,2025-06-07', 12655.5, 10),\n",
              " ('Lunar Getaway', '2025-07-29,2025-07-18', 12336.57142857143, 7),\n",
              " ('Jupiter Adventure', '2025-07-08,2025-08-13', 11216.714285714286, 7)]"
            ]
          },
          "metadata": {},
          "execution_count": 9
        }
      ],
      "source": [
        "list(cursor.execute('''\n",
        "SELECT\n",
        "    t.name AS tour_name,\n",
        "    GROUP_CONCAT(DISTINCT t.date) AS tour_date,\n",
        "    AVG(tt.price) AS avg_ticket_price,\n",
        "    COUNT(tt.client_id) AS client_count\n",
        "FROM tours t\n",
        "JOIN tour_tickets tt ON t.id = tt.tour_id\n",
        "WHERE t.date > '2024-01-01'\n",
        "GROUP BY t.name\n",
        "HAVING COUNT(tt.client_id) > 2\n",
        "ORDER BY avg_ticket_price DESC;\n",
        "\n",
        "'''))"
      ]
    },
    {
      "cell_type": "code",
      "execution_count": null,
      "id": "0af24886",
      "metadata": {
        "colab": {
          "base_uri": "https://localhost:8080/"
        },
        "id": "0af24886",
        "outputId": "6bf84ea1-9cc3-4e0d-8823-eca42217c8fb"
      },
      "outputs": [
        {
          "output_type": "execute_result",
          "data": {
            "text/plain": [
              "[('William Smith',\n",
              "  'Once in a lifetime opportunity.',\n",
              "  '2025-04-14',\n",
              "  'Venus Sightseeing',\n",
              "  16448.833333333332),\n",
              " ('Olivia Williams',\n",
              "  'Amazing experience!',\n",
              "  '2025-04-26',\n",
              "  'Mars Expedition',\n",
              "  15206.0),\n",
              " ('Sophia Brown',\n",
              "  'Some technical issues during flight.',\n",
              "  '2025-04-18',\n",
              "  'Mars Expedition',\n",
              "  15206.0),\n",
              " ('Emma Smith',\n",
              "  'The food could be better.',\n",
              "  '2025-04-09',\n",
              "  'Venus Sightseeing',\n",
              "  14910.75),\n",
              " ('John Johnson',\n",
              "  'Some technical issues during flight.',\n",
              "  '2025-05-07',\n",
              "  'Venus Sightseeing',\n",
              "  14910.75),\n",
              " ('John Brown',\n",
              "  'Amazing experience!',\n",
              "  '2025-05-06',\n",
              "  'Venus Sightseeing',\n",
              "  13171.888888888889)]"
            ]
          },
          "metadata": {},
          "execution_count": 10
        }
      ],
      "source": [
        "list(cursor.execute('''\n",
        "SELECT\n",
        "    c.name || ' ' || c.surname AS client_name,\n",
        "    r.text AS review_text,\n",
        "    r.date AS review_date,\n",
        "    t.name AS tour_name,\n",
        "    AVG(tt.price) AS avg_tour_price\n",
        "FROM clients c\n",
        "JOIN reviews r ON c.id = r.client_id\n",
        "JOIN tours t ON r.tour_id = t.id\n",
        "JOIN tour_tickets tt ON t.id = tt.tour_id\n",
        "GROUP BY c.id\n",
        "HAVING avg_tour_price > (SELECT AVG(price) FROM tour_tickets)\n",
        "ORDER BY avg_tour_price DESC\n",
        "LIMIT 10;\n",
        "\n",
        "\n",
        "'''))"
      ]
    },
    {
      "cell_type": "code",
      "execution_count": null,
      "id": "36a49bd7",
      "metadata": {
        "colab": {
          "base_uri": "https://localhost:8080/"
        },
        "id": "36a49bd7",
        "outputId": "280c9c84-e426-4097-e46c-8a5a6a52e092"
      },
      "outputs": [
        {
          "output_type": "execute_result",
          "data": {
            "text/plain": [
              "[('Jennifer Anderson', 'Mechanic', 10, 6.5, 2),\n",
              " ('Jennifer Miller', 'Pilot', 10, 7.0, 6),\n",
              " ('Lisa Davis', 'Tour Guide', 10, 7.5, 6),\n",
              " ('James Thomas', 'Co-Pilot', 7, 5.0, 12)]"
            ]
          },
          "metadata": {},
          "execution_count": 13
        }
      ],
      "source": [
        "list(cursor.execute('''\n",
        "SELECT\n",
        "    c.name || ' ' || c.surname AS candidate_name,\n",
        "    p.name AS position_name,\n",
        "    c.mark AS candidate_mark,\n",
        "    AVG(c2.mark) AS avg_position_mark,\n",
        "    COUNT(e.id) AS current_employees_in_position\n",
        "FROM candidats c\n",
        "JOIN positions p ON c.position_id = p.id\n",
        "LEFT JOIN employees e ON e.position_id = p.id\n",
        "JOIN candidats c2 ON c2.position_id = p.id\n",
        "GROUP BY c.id\n",
        "HAVING c.mark > (SELECT AVG(mark) FROM candidats WHERE position_id = p.id)\n",
        "ORDER BY c.mark DESC;\n",
        "\n",
        "\n",
        "'''))"
      ]
    },
    {
      "cell_type": "code",
      "execution_count": null,
      "id": "bb4e15dc",
      "metadata": {
        "id": "bb4e15dc",
        "outputId": "cf56e89b-59e0-424d-b924-a66fd849f847",
        "colab": {
          "base_uri": "https://localhost:8080/"
        }
      },
      "outputs": [
        {
          "output_type": "execute_result",
          "data": {
            "text/plain": [
              "[('Orbital Shuttle', 23000), ('Galactic Cruiser', 17000)]"
            ]
          },
          "metadata": {},
          "execution_count": 14
        }
      ],
      "source": [
        "list(cursor.execute('''\n",
        "SELECT\n",
        "    s.name AS spaceship_name,\n",
        "    SUM(p.price * r.count) AS total_maintenance_cost\n",
        "FROM spaceships s\n",
        "JOIN maintain_tickets mt ON s.id = mt.spaceship_id\n",
        "JOIN reasons r ON mt.reason_id = r.id\n",
        "JOIN products p ON r.product_id = p.id\n",
        "GROUP BY s.id\n",
        "ORDER BY total_maintenance_cost DESC;\n",
        "\n",
        "\n",
        "'''))"
      ]
    },
    {
      "cell_type": "code",
      "execution_count": null,
      "id": "ed1c47e5",
      "metadata": {
        "id": "ed1c47e5",
        "outputId": "2ee06e5c-2ceb-46e2-c35b-0ddde9f431a5",
        "colab": {
          "base_uri": "https://localhost:8080/"
        }
      },
      "outputs": [
        {
          "output_type": "execute_result",
          "data": {
            "text/plain": [
              "[('Orbital One',\n",
              "  6,\n",
              "  'Moon,Jupiter Flyby,International Space Station,Mars',\n",
              "  235),\n",
              " ('Galactic Central', 2, 'Moon,Jupiter Flyby', 125),\n",
              " ('Cosmodrome Beta', 1, 'Venus Orbit', 50),\n",
              " ('Starport Alpha', 1, 'International Space Station', 75)]"
            ]
          },
          "metadata": {},
          "execution_count": 23
        }
      ],
      "source": [
        "list(cursor.execute('''\n",
        "SELECT\n",
        "    a.name AS airport_name,\n",
        "    COUNT(t.id) AS tour_count,\n",
        "    GROUP_CONCAT(DISTINCT so.name) AS space_objects,\n",
        "    SUM(s.human_places) AS total_passenger_capacity\n",
        "FROM airports a\n",
        "JOIN tours t ON a.id = t.airport_id\n",
        "JOIN space_objects so ON t.obj_id = so.id\n",
        "JOIN spaceships s ON t.spaceship_id = s.id\n",
        "GROUP BY a.id\n",
        "ORDER BY tour_count DESC;\n",
        "\n",
        "'''))"
      ]
    },
    {
      "cell_type": "code",
      "source": [
        "list(cursor.execute('''\n",
        "SELECT\n",
        "    s.name AS spaceship_name,\n",
        "    st.name AS status,\n",
        "    s.human_places AS seats,\n",
        "    GROUP_CONCAT(DISTINCT t.name) AS tours\n",
        "FROM spaceships s\n",
        "JOIN statuses st ON st.id = s.status_id\n",
        "JOIN tours t ON s.id = t.spaceship_id\n",
        "GROUP BY s.id;\n",
        "\n",
        "'''))"
      ],
      "metadata": {
        "colab": {
          "base_uri": "https://localhost:8080/"
        },
        "id": "8ZQT8Tl2GiHs",
        "outputId": "b65173d9-f835-4b30-ea38-16cc331dbbec"
      },
      "id": "8ZQT8Tl2GiHs",
      "execution_count": null,
      "outputs": [
        {
          "output_type": "execute_result",
          "data": {
            "text/plain": [
              "[('Star Voyager',\n",
              "  'Ready',\n",
              "  50,\n",
              "  'Venus Sightseeing,Mars Expedition,Jupiter Adventure'),\n",
              " ('Galactic Cruiser',\n",
              "  'Ready',\n",
              "  75,\n",
              "  'Mars Expedition,Lunar Getaway,Venus Sightseeing'),\n",
              " ('Orbital Shuttle',\n",
              "  'Ready',\n",
              "  20,\n",
              "  'Jupiter Adventure,ISS Experience,Lunar Getaway')]"
            ]
          },
          "metadata": {},
          "execution_count": 26
        }
      ]
    },
    {
      "cell_type": "code",
      "source": [
        "list(cursor.execute('''\n",
        "SELECT\n",
        "    e.name || ' ' || e.surname AS employee_name,\n",
        "    p.name AS position,\n",
        "    p.salary AS salary,\n",
        "    t.name AS assigned_tour,\n",
        "    t.date AS tour_date\n",
        "FROM employees e\n",
        "JOIN positions p ON e.position_id = p.id\n",
        "LEFT JOIN tours t ON e.tour_id = t.id\n",
        "ORDER BY p.salary DESC;\n",
        "'''))"
      ],
      "metadata": {
        "colab": {
          "base_uri": "https://localhost:8080/"
        },
        "id": "90n3xTxRKCMX",
        "outputId": "63c43989-0533-4019-ab8a-225a8a7e8232"
      },
      "id": "90n3xTxRKCMX",
      "execution_count": null,
      "outputs": [
        {
          "output_type": "execute_result",
          "data": {
            "text/plain": [
              "[('James Thomas', 'Pilot', 100000, 'Venus Sightseeing', '2025-06-25'),\n",
              " ('Jennifer Wilson', 'Pilot', 100000, None, None),\n",
              " ('Jennifer Anderson', 'Engineer', 90000, 'Venus Sightseeing', '2025-06-25'),\n",
              " ('David Anderson', 'Engineer', 90000, None, None),\n",
              " ('James Miller', 'Co-Pilot', 80000, 'Jupiter Adventure', '2025-07-08'),\n",
              " ('David Taylor', 'Co-Pilot', 80000, None, None),\n",
              " ('Jennifer Thomas', 'Co-Pilot', 80000, None, None),\n",
              " ('Sarah Wilson', 'Co-Pilot', 80000, 'Venus Sightseeing', '2025-06-07'),\n",
              " ('Sarah Anderson', 'Mechanic', 60000, 'ISS Experience', '2025-08-04'),\n",
              " ('Jennifer Wilson',\n",
              "  'Flight Attendant',\n",
              "  50000,\n",
              "  'Venus Sightseeing',\n",
              "  '2025-06-25'),\n",
              " ('David Thomas', 'Flight Attendant', 50000, 'ISS Experience', '2025-08-04'),\n",
              " ('Lisa Anderson', 'Flight Attendant', 50000, None, None),\n",
              " ('Sarah Anderson', 'Tour Guide', 45000, 'Jupiter Adventure', '2025-08-13'),\n",
              " ('Jennifer Anderson', 'Tour Guide', 45000, None, None),\n",
              " ('David Davis', 'Tour Guide', 45000, 'Venus Sightseeing', '2025-06-07')]"
            ]
          },
          "metadata": {},
          "execution_count": 31
        }
      ]
    },
    {
      "cell_type": "code",
      "source": [
        "list(cursor.execute('''\n",
        "SELECT\n",
        "    so.name AS destination,\n",
        "    COUNT(t.id) AS tour_count,\n",
        "    COUNT(DISTINCT tt.client_id) AS unique_clients\n",
        "FROM space_objects so\n",
        "JOIN tours t ON so.id = t.obj_id\n",
        "JOIN tour_tickets tt ON t.id = tt.tour_id\n",
        "GROUP BY so.id\n",
        "ORDER BY tour_count DESC;\n",
        "\n",
        "'''))"
      ],
      "metadata": {
        "colab": {
          "base_uri": "https://localhost:8080/"
        },
        "id": "TYcgOwNHKp_V",
        "outputId": "5a7e5522-3891-4c6d-cb6c-edea094652a4"
      },
      "id": "TYcgOwNHKp_V",
      "execution_count": null,
      "outputs": [
        {
          "output_type": "execute_result",
          "data": {
            "text/plain": [
              "[('International Space Station', 10, 8),\n",
              " ('Jupiter Flyby', 9, 8),\n",
              " ('Moon', 6, 5),\n",
              " ('Venus Orbit', 3, 3),\n",
              " ('Mars', 2, 1)]"
            ]
          },
          "metadata": {},
          "execution_count": 30
        }
      ]
    },
    {
      "cell_type": "code",
      "source": [
        "list(cursor.execute('''\n",
        "    SELECT\n",
        "    t.name AS tour,\n",
        "    so.name AS destination,\n",
        "    t.cost AS base_price,\n",
        "    AVG(tt.price) AS actual_avg_price,\n",
        "    AVG(tt.price) - t.cost AS price_difference,\n",
        "    CASE\n",
        "        WHEN AVG(tt.price) > t.cost THEN 'Increased'\n",
        "        ELSE 'Decreased'\n",
        "    END AS pricing_strategy\n",
        "FROM tours t\n",
        "JOIN space_objects so ON t.obj_id = so.id\n",
        "JOIN tour_tickets tt ON t.id = tt.tour_id\n",
        "GROUP BY t.id;\n",
        "'''))"
      ],
      "metadata": {
        "colab": {
          "base_uri": "https://localhost:8080/"
        },
        "id": "h9USHHVSWoAs",
        "outputId": "c8816246-b5f7-4c47-830f-41bab50781d1"
      },
      "id": "h9USHHVSWoAs",
      "execution_count": null,
      "outputs": [
        {
          "output_type": "execute_result",
          "data": {
            "text/plain": [
              "[('Venus Sightseeing', 'Moon', 14975, 14910.75, -64.25, 'Decreased'),\n",
              " ('Mars Expedition', 'Jupiter Flyby', 18685, 15206.0, -3479.0, 'Decreased'),\n",
              " ('Jupiter Adventure',\n",
              "  'International Space Station',\n",
              "  13521,\n",
              "  11780.8,\n",
              "  -1740.2000000000007,\n",
              "  'Decreased'),\n",
              " ('ISS Experience', 'Mars', 8716, 10390.5, 1674.5, 'Increased'),\n",
              " ('Mars Expedition', 'Moon', 6767, 19525.0, 12758.0, 'Increased'),\n",
              " ('Lunar Getaway',\n",
              "  'Jupiter Flyby',\n",
              "  7629,\n",
              "  12234.333333333334,\n",
              "  4605.333333333334,\n",
              "  'Increased'),\n",
              " ('Jupiter Adventure',\n",
              "  'International Space Station',\n",
              "  19690,\n",
              "  9806.5,\n",
              "  -9883.5,\n",
              "  'Decreased'),\n",
              " ('Venus Sightseeing',\n",
              "  'Venus Orbit',\n",
              "  17689,\n",
              "  11062.666666666666,\n",
              "  -6626.333333333334,\n",
              "  'Decreased'),\n",
              " ('Lunar Getaway', 'Jupiter Flyby', 15309, 12413.25, -2895.75, 'Decreased'),\n",
              " ('Venus Sightseeing',\n",
              "  'International Space Station',\n",
              "  10916,\n",
              "  11241.333333333334,\n",
              "  325.33333333333394,\n",
              "  'Increased')]"
            ]
          },
          "metadata": {},
          "execution_count": 34
        }
      ]
    },
    {
      "cell_type": "code",
      "source": [
        "list(cursor.execute('''\n",
        "SELECT\n",
        "    p.name AS position,\n",
        "    COUNT(e.id) AS employee_count,\n",
        "    p.salary AS position_salary,\n",
        "    COUNT(e.id) * p.salary AS total_salary_cost,\n",
        "    ROUND(COUNT(e.id) * 100.0 / (SELECT COUNT(*) FROM employees), 1) AS percentage\n",
        "FROM positions p\n",
        "LEFT JOIN employees e ON p.id = e.position_id\n",
        "GROUP BY p.id\n",
        "ORDER BY total_salary_cost DESC;\n",
        "'''))"
      ],
      "metadata": {
        "colab": {
          "base_uri": "https://localhost:8080/"
        },
        "id": "tWo8kZSBYexh",
        "outputId": "5f4b2208-0803-4c9f-b932-2e9b2096a060"
      },
      "id": "tWo8kZSBYexh",
      "execution_count": null,
      "outputs": [
        {
          "output_type": "execute_result",
          "data": {
            "text/plain": [
              "[('Co-Pilot', 4, 80000, 320000, 26.7),\n",
              " ('Pilot', 2, 100000, 200000, 13.3),\n",
              " ('Engineer', 2, 90000, 180000, 13.3),\n",
              " ('Flight Attendant', 3, 50000, 150000, 20.0),\n",
              " ('Tour Guide', 3, 45000, 135000, 20.0),\n",
              " ('Mechanic', 1, 60000, 60000, 6.7)]"
            ]
          },
          "metadata": {},
          "execution_count": 35
        }
      ]
    }
  ],
  "metadata": {
    "kernelspec": {
      "display_name": "sys_analyze",
      "language": "python",
      "name": "python3"
    },
    "language_info": {
      "codemirror_mode": {
        "name": "ipython",
        "version": 3
      },
      "file_extension": ".py",
      "mimetype": "text/x-python",
      "name": "python",
      "nbconvert_exporter": "python",
      "pygments_lexer": "ipython3",
      "version": "3.11.11"
    },
    "colab": {
      "provenance": []
    }
  },
  "nbformat": 4,
  "nbformat_minor": 5
}