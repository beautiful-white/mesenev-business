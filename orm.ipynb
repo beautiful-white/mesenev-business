{
 "cells": [
  {
   "cell_type": "code",
   "execution_count": 4,
   "id": "3d399211",
   "metadata": {},
   "outputs": [
    {
     "data": {
      "text/plain": [
       "True"
      ]
     },
     "execution_count": 4,
     "metadata": {},
     "output_type": "execute_result"
    }
   ],
   "source": [
    "from peewee import *\n",
    "from models import *\n",
    "\n",
    "\n",
    "db = SqliteDatabase(\"./space_tourism.db\")\n",
    "db.connect()"
   ]
  },
  {
   "cell_type": "markdown",
   "id": "1375dc87",
   "metadata": {},
   "source": [
    "list(cursor.execute('''\\\n",
    "SELECT \\\n",
    "    t.name AS tour_name,\\\n",
    "    GROUP_CONCAT(DISTINCT t.date) AS tour_date,\\\n",
    "    AVG(tt.price) AS avg_ticket_price,\\\n",
    "    COUNT(tt.client_id) AS client_count\\\n",
    "FROM tours t\\\n",
    "JOIN tour_tickets tt ON t.id = tt.tour_id\\\n",
    "WHERE t.date > '2024-01-01'\\\n",
    "GROUP BY t.name\\\n",
    "HAVING COUNT(tt.client_id) > 2\\\n",
    "ORDER BY avg_ticket_price DESC;          \\\n",
    "                    \\\n",
    "'''))"
   ]
  },
  {
   "cell_type": "code",
   "execution_count": 12,
   "id": "1e307dea",
   "metadata": {},
   "outputs": [
    {
     "data": {
      "text/plain": [
       "[['Mars Expedition', '2025-07-26,2025-05-05', 14519.333333333334, 3],\n",
       " ['Jupiter Adventure', '2025-05-20,2025-06-25', 13786.555555555555, 9],\n",
       " ['ISS Experience',\n",
       "  '2025-07-31,2025-07-06,2025-07-20,2025-06-12',\n",
       "  13182.125,\n",
       "  16]]"
      ]
     },
     "execution_count": 12,
     "metadata": {},
     "output_type": "execute_result"
    }
   ],
   "source": [
    "query = (Tours\n",
    "         .select(Tours.name.alias(\"tour_name\"), fn.GROUP_CONCAT(Tours.date.distinct()).alias(\"tour_data\"),\n",
    "                 fn.AVG(TourTickets.price).alias(\"avg_ticket_price\"),\n",
    "                 fn.COUNT(TourTickets.client_id).alias(\"client_count\"))\n",
    "         .join(TourTickets)\n",
    "         .where(Tours.date > \"2024-01-01\")\n",
    "         .group_by(Tours.name)\n",
    "         .having(fn.COUNT(TourTickets.client) > 2)\n",
    "         .order_by(SQL('tour_name').desc())\n",
    "\n",
    "         )\n",
    "\n",
    "\n",
    "\n",
    "l = [[i.tour_name, i.tour_data, i.avg_ticket_price, i.client_count] for i in query]\n",
    "l"
   ]
  },
  {
   "cell_type": "markdown",
   "id": "52b336de",
   "metadata": {},
   "source": [
    "list(cursor.execute('''\\\n",
    "SELECT \\\n",
    "    c.name || ' ' || c.surname AS client_name,\\\n",
    "    r.text AS review_text,\\\n",
    "    r.date AS review_date,\\\n",
    "    t.name AS tour_name,\\\n",
    "    AVG(tt.price) AS avg_tour_price\\\n",
    "FROM clients c\\\n",
    "JOIN reviews r ON c.id = r.client_id\\\n",
    "JOIN tours t ON r.tour_id = t.id\\\n",
    "JOIN tour_tickets tt ON t.id = tt.tour_id\\\n",
    "GROUP BY c.id\\\n",
    "HAVING avg_tour_price > (SELECT AVG(price) FROM tour_tickets)\\\n",
    "ORDER BY avg_tour_price DESC\\\n",
    "LIMIT 10;\n",
    "               \n",
    "                    \n",
    "'''))"
   ]
  },
  {
   "cell_type": "code",
   "execution_count": 13,
   "id": "9b46e5fe",
   "metadata": {},
   "outputs": [],
   "source": [
    "query = (Clients\n",
    "         .select(Clients.name, Clients.surname,\n",
    "                 Reviews.text.alias(\"review_text\"),\n",
    "                 Reviews.date.alias(\"review_date\"),\n",
    "                 Tours.name.alias(\"tour_name\"),\n",
    "                 fn.AVG(TourTickets.price).alias(\"avg_tour_price\"))\n",
    "         .join(Reviews)\n",
    "         .join(Tours)\n",
    "         .join(TourTickets)\n",
    "         .group_by(Clients.id)\n",
    "         .having(SQL(\"avg_tour_price\") > (TourTickets.select(fn.AVG(TourTickets.price))))\n",
    "         .order_by(SQL(\"avg_tour_price\").desc())\n",
    "         .limit(10)\n",
    "        )\n",
    "\n",
    "l = [[i.name + \" \" + i.surname, f\"'{i.review_text}'\", i.review_date, i.tour_name, i.avg_tour_price] for i in query.namedtuples()]"
   ]
  },
  {
   "cell_type": "markdown",
   "id": "42b29947",
   "metadata": {},
   "source": [
    "list(cursor.execute('''\\\n",
    "SELECT \\\n",
    "    c.name || ' ' || c.surname AS candidate_name,\\\n",
    "    p.name AS position_name,\\\n",
    "    c.mark AS candidate_mark,\\\n",
    "    AVG(c2.mark) AS avg_position_mark,\\\n",
    "    COUNT(e.id) AS current_employees_in_position\\\n",
    "FROM candidats c\\\n",
    "JOIN positions p ON c.position_id = p.id\\\n",
    "LEFT JOIN employees e ON e.position_id = p.id\\\n",
    "JOIN candidats c2 ON c2.position_id = p.id\\\n",
    "GROUP BY c.id\\\n",
    "HAVING c.mark > (SELECT AVG(mark) FROM candidats WHERE position_id = p.id)\\\n",
    "ORDER BY c.mark DESC;\\\n",
    "               \n",
    "                    \n",
    "'''))"
   ]
  },
  {
   "cell_type": "code",
   "execution_count": 14,
   "id": "7231e09e",
   "metadata": {},
   "outputs": [
    {
     "name": "stdout",
     "output_type": "stream",
     "text": [
      "James Wilson Co-Pilot 10 9.0 6\n",
      "Lisa Wilson Co-Pilot 10 9.0 6\n",
      "Robert Wilson Tour Guide 5 4.5 6\n"
     ]
    }
   ],
   "source": [
    "Candidat2 = Candidats.alias()\n",
    "\n",
    "avg_mark_subq = (Candidat2\n",
    "                .select(fn.AVG(Candidat2.mark))\n",
    "                .where(Candidat2.position_id == Candidats.position_id))\n",
    "\n",
    "query = (Candidats\n",
    "        .select(\n",
    "            Candidats.name.concat(' ').concat(Candidats.surname).alias('candidate_name'),\n",
    "            Positions.name.alias('position_name'),\n",
    "            Candidats.mark.alias('candidate_mark'),\n",
    "            fn.AVG(Candidat2.mark).alias('avg_position_mark'),\n",
    "            fn.COUNT(Employees.id).alias('current_employees_in_position')\n",
    "        )\n",
    "        .join(Positions, on=(Candidats.position_id == Positions.id))\n",
    "        .join(Employees, JOIN.LEFT_OUTER, on=(Employees.position_id == Positions.id))\n",
    "        .join(Candidat2, on=(Candidat2.position_id == Positions.id))\n",
    "        .group_by(Candidats.id, Positions.name)\n",
    "        .having(Candidats.mark > avg_mark_subq)\n",
    "        .order_by(Candidats.mark.desc()))\n",
    "\n",
    "\n",
    "for i in query.namedtuples():\n",
    "    print(i.candidate_name + \" \" + i.position_name + \" \" + str(i.candidate_mark) + \" \" + str(i.avg_position_mark) + \" \" + str(i.current_employees_in_position))\n"
   ]
  },
  {
   "cell_type": "markdown",
   "id": "836f70fc",
   "metadata": {},
   "source": [
    "list(cursor.execute('''\\\n",
    "SELECT \\\n",
    "    s.name AS spaceship_name,\\\n",
    "    SUM(p.price * r.count) AS total_maintenance_cost\\\n",
    "FROM spaceships s\\\n",
    "JOIN maintain_tickets mt ON s.id = mt.spaceship_id\\\n",
    "JOIN reasons r ON mt.reason_id = r.id\\\n",
    "JOIN products p ON r.product_id = p.id\\\n",
    "GROUP BY s.id\\\n",
    "ORDER BY total_maintenance_cost DESC;\\\n",
    "               \n",
    "                    \n",
    "'''))"
   ]
  },
  {
   "cell_type": "code",
   "execution_count": 9,
   "id": "ad46e2e1",
   "metadata": {},
   "outputs": [
    {
     "name": "stdout",
     "output_type": "stream",
     "text": [
      "Galactic Cruiser 33000\n",
      "Orbital Shuttle 9000\n",
      "Cosmic Explorer 8000\n"
     ]
    }
   ],
   "source": [
    "subquery = fn.SUM(Products.price * Reasons.count)\n",
    "\n",
    "query = (Spaceships\n",
    "         .select(\n",
    "                 Spaceships.name.alias(\"spaceship_name\"),\n",
    "                 subquery.alias(\"total_maintenance_cost\")\n",
    "                 )\n",
    "         .join(MaintainTickets, on=(Spaceships.id == MaintainTickets.spaceship_id))\n",
    "         .join(Reasons, on=(MaintainTickets.reason_id == Reasons.id))\n",
    "         .join(Products, on=(Reasons.product_id == Products.id))\n",
    "         .group_by(Spaceships.id)\n",
    "         .order_by(subquery.desc())\n",
    "         \n",
    "        )\n",
    "\n",
    "for i in query:\n",
    "    print(i.spaceship_name, i.total_maintenance_cost)"
   ]
  },
  {
   "cell_type": "markdown",
   "id": "ac73a6bb",
   "metadata": {},
   "source": [
    "list(cursor.execute('''\\\n",
    "SELECT \\\n",
    "    a.name AS airport_name,\\\n",
    "    COUNT(t.id) AS tour_count,\\\n",
    "    GROUP_CONCAT(DISTINCT so.name) AS space_objects,\\\n",
    "    SUM(s.human_places) AS total_passenger_capacity\\\n",
    "FROM airports a\\\n",
    "JOIN tours t ON a.id = t.airport_id\\\n",
    "JOIN space_objects so ON t.obj_id = so.id\\\n",
    "JOIN spaceships s ON t.spaceship_id = s.id\\\n",
    "GROUP BY a.id\\\n",
    "ORDER BY tour_count DESC;\\\n",
    "                    \n",
    "'''))"
   ]
  },
  {
   "cell_type": "code",
   "execution_count": 10,
   "id": "f4434282",
   "metadata": {},
   "outputs": [
    {
     "name": "stdout",
     "output_type": "stream",
     "text": [
      "Orbital One 3 International Space Station,Moon 155\n",
      "Galactic Central 3 Venus Orbit,Jupiter Flyby,International Space Station 90\n",
      "Cosmodrome Beta 2 Venus Orbit 150\n",
      "Starport Alpha 2 Moon,Mars 80\n"
     ]
    }
   ],
   "source": [
    "tour_count = fn.COUNT(Tours.id)\n",
    "query = (\n",
    "         Airports\n",
    "         .select(\n",
    "             Airports.name.alias(\"airport_name\"),\n",
    "             tour_count.alias(\"tour_count\"),\n",
    "             fn.GROUP_CONCAT(SpaceObjects.name.distinct()).alias(\"space_objects\"),\n",
    "             fn.SUM(Spaceships.human_places).alias(\"total_passenger_capacity\")\n",
    "         )\n",
    "         .join(Tours)\n",
    "         .join(SpaceObjects)\n",
    "         .switch(Tours)\n",
    "         .join(Spaceships)\n",
    "         .group_by(Airports.id)\n",
    "         .order_by(tour_count.desc())\n",
    "        )\n",
    "\n",
    "for i in query:\n",
    "    print(i.airport_name, i.tour_count, i.space_objects, i.total_passenger_capacity)"
   ]
  }
 ],
 "metadata": {
  "kernelspec": {
   "display_name": "ultra",
   "language": "python",
   "name": "python3"
  },
  "language_info": {
   "codemirror_mode": {
    "name": "ipython",
    "version": 3
   },
   "file_extension": ".py",
   "mimetype": "text/x-python",
   "name": "python",
   "nbconvert_exporter": "python",
   "pygments_lexer": "ipython3",
   "version": "3.13.2"
  }
 },
 "nbformat": 4,
 "nbformat_minor": 5
}
