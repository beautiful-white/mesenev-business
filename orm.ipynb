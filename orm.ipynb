{
 "cells": [
  {
   "cell_type": "code",
   "execution_count": 1,
   "id": "3d399211",
   "metadata": {},
   "outputs": [
    {
     "data": {
      "text/plain": [
       "True"
      ]
     },
     "execution_count": 1,
     "metadata": {},
     "output_type": "execute_result"
    }
   ],
   "source": [
    "from peewee import *\n",
    "from models import *\n",
    "\n",
    "\n",
    "db = SqliteDatabase(\"./space_tourism.db\")\n",
    "db.connect()"
   ]
  },
  {
   "cell_type": "markdown",
   "id": "1375dc87",
   "metadata": {},
   "source": [
    "list(cursor.execute('''\\\n",
    "SELECT \\\n",
    "    t.name AS tour_name,\\\n",
    "    GROUP_CONCAT(DISTINCT t.date) AS tour_date,\\\n",
    "    AVG(tt.price) AS avg_ticket_price,\\\n",
    "    COUNT(tt.client_id) AS client_count\\\n",
    "FROM tours t\\\n",
    "JOIN tour_tickets tt ON t.id = tt.tour_id\\\n",
    "WHERE t.date > '2024-01-01'\\\n",
    "GROUP BY t.name\\\n",
    "HAVING COUNT(tt.client_id) > 2\\\n",
    "ORDER BY avg_ticket_price DESC;          \\\n",
    "                    \\\n",
    "'''))"
   ]
  },
  {
   "cell_type": "code",
   "execution_count": 2,
   "id": "1e307dea",
   "metadata": {},
   "outputs": [
    {
     "name": "stdout",
     "output_type": "stream",
     "text": [
      "Mars Expedition 2025-07-26,2025-05-05 14519.333333333334 3\n",
      "Jupiter Adventure 2025-05-20,2025-06-25 13786.555555555555 9\n",
      "ISS Experience 2025-07-31,2025-07-06,2025-07-20,2025-06-12 13182.125 16\n"
     ]
    }
   ],
   "source": [
    "query = (Tours\n",
    "         .select(Tours.name.alias(\"tour_name\"), fn.GROUP_CONCAT(Tours.date.distinct()).alias(\"tour_data\"),\n",
    "                 fn.AVG(TourTickets.price).alias(\"avg_ticket_price\"),\n",
    "                 fn.COUNT(TourTickets.client_id).alias(\"client_count\"))\n",
    "         .join(TourTickets)\n",
    "         .where(Tours.date > \"2024-01-01\")\n",
    "         .group_by(Tours.name)\n",
    "         .having(fn.COUNT(TourTickets.client) > 2)\n",
    "         .order_by(SQL('tour_name').desc())\n",
    "\n",
    "         )\n",
    "\n",
    "for i in query:\n",
    "    print(i.tour_name, i.tour_data, i.avg_ticket_price, i.client_count)"
   ]
  },
  {
   "cell_type": "markdown",
   "id": "52b336de",
   "metadata": {},
   "source": [
    "list(cursor.execute('''\\\n",
    "SELECT \\\n",
    "    c.name || ' ' || c.surname AS client_name,\\\n",
    "    r.text AS review_text,\\\n",
    "    r.date AS review_date,\\\n",
    "    t.name AS tour_name,\\\n",
    "    AVG(tt.price) AS avg_tour_price\\\n",
    "FROM clients c\\\n",
    "JOIN reviews r ON c.id = r.client_id\\\n",
    "JOIN tours t ON r.tour_id = t.id\\\n",
    "JOIN tour_tickets tt ON t.id = tt.tour_id\\\n",
    "GROUP BY c.id\\\n",
    "HAVING avg_tour_price > (SELECT AVG(price) FROM tour_tickets)\\\n",
    "ORDER BY avg_tour_price DESC\\\n",
    "LIMIT 10;\n",
    "               \n",
    "                    \n",
    "'''))"
   ]
  },
  {
   "cell_type": "code",
   "execution_count": 51,
   "id": "9b46e5fe",
   "metadata": {},
   "outputs": [
    {
     "name": "stdout",
     "output_type": "stream",
     "text": [
      "John Williams 'The food could be better.' 2025-04-21 ISS Experience 16479.0\n",
      "William Smith 'The crew was fantastic.' 2025-04-20 Jupiter Adventure 16004.777777777777\n",
      "Michael Brown 'Worth every penny!' 2025-03-25 Jupiter Adventure 15412.0\n",
      "John Jones 'Amazing experience!' 2025-04-12 Jupiter Adventure 15412.0\n",
      "Sophia Smith 'Worth every penny!' 2025-04-08 Jupiter Adventure 15412.0\n",
      "Sophia Jones 'The crew was fantastic.' 2025-03-24 Jupiter Adventure 13786.555555555555\n"
     ]
    }
   ],
   "source": [
    "query = (Clients\n",
    "         .select(Clients.name, Clients.surname,\n",
    "                 Reviews.text.alias(\"review_text\"),\n",
    "                 Reviews.date.alias(\"review_date\"),\n",
    "                 Tours.name.alias(\"tour_name\"),\n",
    "                 fn.AVG(TourTickets.price).alias(\"avg_tour_price\"))\n",
    "         .join(Reviews)\n",
    "         .join(Tours)\n",
    "         .join(TourTickets)\n",
    "         .group_by(Clients.id)\n",
    "         .having(SQL(\"avg_tour_price\") > (TourTickets.select(fn.AVG(TourTickets.price))))\n",
    "         .order_by(SQL(\"avg_tour_price\").desc())\n",
    "         .limit(10)\n",
    "        )\n",
    "\n",
    "for i in query.namedtuples():\n",
    "    print(i.name + \" \" + i.surname, f\"'{i.review_text}'\", i.review_date, i.tour_name, i.avg_tour_price)"
   ]
  },
  {
   "cell_type": "markdown",
   "id": "42b29947",
   "metadata": {},
   "source": [
    "list(cursor.execute('''\\\n",
    "SELECT \\\n",
    "    c.name || ' ' || c.surname AS Candidats_name,\\\n",
    "    p.name AS position_name,\\\n",
    "    c.mark AS Candidats_mark,\\\n",
    "    AVG(c2.mark) AS avg_position_mark,\\\n",
    "    COUNT(e.id) AS current_employees_in_position\\\n",
    "FROM candidats c\\\n",
    "JOIN positions p ON c.position_id = p.id\\\n",
    "LEFT JOIN employees e ON e.position_id = p.id\\\n",
    "JOIN candidats c2 ON c2.position_id = p.id\\\n",
    "GROUP BY c.id\\\n",
    "HAVING c.mark > (SELECT AVG(mark) FROM candidats WHERE position_id = p.id)\\\n",
    "ORDER BY c.mark DESC;\\\n",
    "               \n",
    "                    \n",
    "'''))"
   ]
  },
  {
   "cell_type": "code",
   "execution_count": 66,
   "id": "7231e09e",
   "metadata": {},
   "outputs": [
    {
     "ename": "OperationalError",
     "evalue": "near \"AS\": syntax error",
     "output_type": "error",
     "traceback": [
      "\u001b[31m---------------------------------------------------------------------------\u001b[39m",
      "\u001b[31mOperationalError\u001b[39m                          Traceback (most recent call last)",
      "\u001b[36mFile \u001b[39m\u001b[32m~/.conda/envs/ultra/lib/python3.13/site-packages/peewee.py:3322\u001b[39m, in \u001b[36mDatabase.execute_sql\u001b[39m\u001b[34m(self, sql, params, commit)\u001b[39m\n\u001b[32m   3321\u001b[39m     cursor = \u001b[38;5;28mself\u001b[39m.cursor()\n\u001b[32m-> \u001b[39m\u001b[32m3322\u001b[39m     \u001b[43mcursor\u001b[49m\u001b[43m.\u001b[49m\u001b[43mexecute\u001b[49m\u001b[43m(\u001b[49m\u001b[43msql\u001b[49m\u001b[43m,\u001b[49m\u001b[43m \u001b[49m\u001b[43mparams\u001b[49m\u001b[43m \u001b[49m\u001b[38;5;129;43;01mor\u001b[39;49;00m\u001b[43m \u001b[49m\u001b[43m(\u001b[49m\u001b[43m)\u001b[49m\u001b[43m)\u001b[49m\n\u001b[32m   3323\u001b[39m \u001b[38;5;28;01mreturn\u001b[39;00m cursor\n",
      "\u001b[31mOperationalError\u001b[39m: near \"AS\": syntax error",
      "\nDuring handling of the above exception, another exception occurred:\n",
      "\u001b[31mOperationalError\u001b[39m                          Traceback (most recent call last)",
      "\u001b[36mCell\u001b[39m\u001b[36m \u001b[39m\u001b[32mIn[66]\u001b[39m\u001b[32m, line 27\u001b[39m\n\u001b[32m      8\u001b[39m query = (Candidats\n\u001b[32m      9\u001b[39m     .select(\n\u001b[32m     10\u001b[39m         (Candidats.name + \u001b[33m'\u001b[39m\u001b[33m \u001b[39m\u001b[33m'\u001b[39m + Candidats.surname).alias(\u001b[33m'\u001b[39m\u001b[33mCandidats_name\u001b[39m\u001b[33m'\u001b[39m),\n\u001b[32m   (...)\u001b[39m\u001b[32m     23\u001b[39m     .order_by(Candidats.mark.desc())\n\u001b[32m     24\u001b[39m )\n\u001b[32m     26\u001b[39m \u001b[38;5;66;03m# Для выполнения запроса\u001b[39;00m\n\u001b[32m---> \u001b[39m\u001b[32m27\u001b[39m results = \u001b[38;5;28;43mlist\u001b[39;49m\u001b[43m(\u001b[49m\u001b[43mquery\u001b[49m\u001b[43m.\u001b[49m\u001b[43mdicts\u001b[49m\u001b[43m(\u001b[49m\u001b[43m)\u001b[49m\u001b[43m)\u001b[49m\n",
      "\u001b[36mFile \u001b[39m\u001b[32m~/.conda/envs/ultra/lib/python3.13/site-packages/peewee.py:7285\u001b[39m, in \u001b[36mBaseModelSelect.__iter__\u001b[39m\u001b[34m(self)\u001b[39m\n\u001b[32m   7283\u001b[39m \u001b[38;5;28;01mdef\u001b[39;00m\u001b[38;5;250m \u001b[39m\u001b[34m__iter__\u001b[39m(\u001b[38;5;28mself\u001b[39m):\n\u001b[32m   7284\u001b[39m     \u001b[38;5;28;01mif\u001b[39;00m \u001b[38;5;129;01mnot\u001b[39;00m \u001b[38;5;28mself\u001b[39m._cursor_wrapper:\n\u001b[32m-> \u001b[39m\u001b[32m7285\u001b[39m         \u001b[38;5;28;43mself\u001b[39;49m\u001b[43m.\u001b[49m\u001b[43mexecute\u001b[49m\u001b[43m(\u001b[49m\u001b[43m)\u001b[49m\n\u001b[32m   7286\u001b[39m     \u001b[38;5;28;01mreturn\u001b[39;00m \u001b[38;5;28miter\u001b[39m(\u001b[38;5;28mself\u001b[39m._cursor_wrapper)\n",
      "\u001b[36mFile \u001b[39m\u001b[32m~/.conda/envs/ultra/lib/python3.13/site-packages/peewee.py:2036\u001b[39m, in \u001b[36mdatabase_required.<locals>.inner\u001b[39m\u001b[34m(self, database, *args, **kwargs)\u001b[39m\n\u001b[32m   2033\u001b[39m \u001b[38;5;28;01mif\u001b[39;00m \u001b[38;5;129;01mnot\u001b[39;00m database:\n\u001b[32m   2034\u001b[39m     \u001b[38;5;28;01mraise\u001b[39;00m InterfaceError(\u001b[33m'\u001b[39m\u001b[33mQuery must be bound to a database in order \u001b[39m\u001b[33m'\u001b[39m\n\u001b[32m   2035\u001b[39m                          \u001b[33m'\u001b[39m\u001b[33mto call \u001b[39m\u001b[33m\"\u001b[39m\u001b[38;5;132;01m%s\u001b[39;00m\u001b[33m\"\u001b[39m\u001b[33m.\u001b[39m\u001b[33m'\u001b[39m % method.\u001b[34m__name__\u001b[39m)\n\u001b[32m-> \u001b[39m\u001b[32m2036\u001b[39m \u001b[38;5;28;01mreturn\u001b[39;00m \u001b[43mmethod\u001b[49m\u001b[43m(\u001b[49m\u001b[38;5;28;43mself\u001b[39;49m\u001b[43m,\u001b[49m\u001b[43m \u001b[49m\u001b[43mdatabase\u001b[49m\u001b[43m,\u001b[49m\u001b[43m \u001b[49m\u001b[43m*\u001b[49m\u001b[43margs\u001b[49m\u001b[43m,\u001b[49m\u001b[43m \u001b[49m\u001b[43m*\u001b[49m\u001b[43m*\u001b[49m\u001b[43mkwargs\u001b[49m\u001b[43m)\u001b[49m\n",
      "\u001b[36mFile \u001b[39m\u001b[32m~/.conda/envs/ultra/lib/python3.13/site-packages/peewee.py:2107\u001b[39m, in \u001b[36mBaseQuery.execute\u001b[39m\u001b[34m(self, database)\u001b[39m\n\u001b[32m   2105\u001b[39m \u001b[38;5;129m@database_required\u001b[39m\n\u001b[32m   2106\u001b[39m \u001b[38;5;28;01mdef\u001b[39;00m\u001b[38;5;250m \u001b[39m\u001b[34mexecute\u001b[39m(\u001b[38;5;28mself\u001b[39m, database):\n\u001b[32m-> \u001b[39m\u001b[32m2107\u001b[39m     \u001b[38;5;28;01mreturn\u001b[39;00m \u001b[38;5;28;43mself\u001b[39;49m\u001b[43m.\u001b[49m\u001b[43m_execute\u001b[49m\u001b[43m(\u001b[49m\u001b[43mdatabase\u001b[49m\u001b[43m)\u001b[49m\n",
      "\u001b[36mFile \u001b[39m\u001b[32m~/.conda/envs/ultra/lib/python3.13/site-packages/peewee.py:2280\u001b[39m, in \u001b[36mSelectBase._execute\u001b[39m\u001b[34m(self, database)\u001b[39m\n\u001b[32m   2278\u001b[39m \u001b[38;5;28;01mdef\u001b[39;00m\u001b[38;5;250m \u001b[39m\u001b[34m_execute\u001b[39m(\u001b[38;5;28mself\u001b[39m, database):\n\u001b[32m   2279\u001b[39m     \u001b[38;5;28;01mif\u001b[39;00m \u001b[38;5;28mself\u001b[39m._cursor_wrapper \u001b[38;5;129;01mis\u001b[39;00m \u001b[38;5;28;01mNone\u001b[39;00m:\n\u001b[32m-> \u001b[39m\u001b[32m2280\u001b[39m         cursor = \u001b[43mdatabase\u001b[49m\u001b[43m.\u001b[49m\u001b[43mexecute\u001b[49m\u001b[43m(\u001b[49m\u001b[38;5;28;43mself\u001b[39;49m\u001b[43m)\u001b[49m\n\u001b[32m   2281\u001b[39m         \u001b[38;5;28mself\u001b[39m._cursor_wrapper = \u001b[38;5;28mself\u001b[39m._get_cursor_wrapper(cursor)\n\u001b[32m   2282\u001b[39m     \u001b[38;5;28;01mreturn\u001b[39;00m \u001b[38;5;28mself\u001b[39m._cursor_wrapper\n",
      "\u001b[36mFile \u001b[39m\u001b[32m~/.conda/envs/ultra/lib/python3.13/site-packages/peewee.py:3330\u001b[39m, in \u001b[36mDatabase.execute\u001b[39m\u001b[34m(self, query, commit, **context_options)\u001b[39m\n\u001b[32m   3328\u001b[39m ctx = \u001b[38;5;28mself\u001b[39m.get_sql_context(**context_options)\n\u001b[32m   3329\u001b[39m sql, params = ctx.sql(query).query()\n\u001b[32m-> \u001b[39m\u001b[32m3330\u001b[39m \u001b[38;5;28;01mreturn\u001b[39;00m \u001b[38;5;28;43mself\u001b[39;49m\u001b[43m.\u001b[49m\u001b[43mexecute_sql\u001b[49m\u001b[43m(\u001b[49m\u001b[43msql\u001b[49m\u001b[43m,\u001b[49m\u001b[43m \u001b[49m\u001b[43mparams\u001b[49m\u001b[43m)\u001b[49m\n",
      "\u001b[36mFile \u001b[39m\u001b[32m~/.conda/envs/ultra/lib/python3.13/site-packages/peewee.py:3320\u001b[39m, in \u001b[36mDatabase.execute_sql\u001b[39m\u001b[34m(self, sql, params, commit)\u001b[39m\n\u001b[32m   3318\u001b[39m     __deprecated__(\u001b[33m'\u001b[39m\u001b[33m\"\u001b[39m\u001b[33mcommit\u001b[39m\u001b[33m\"\u001b[39m\u001b[33m has been deprecated and is a no-op.\u001b[39m\u001b[33m'\u001b[39m)\n\u001b[32m   3319\u001b[39m logger.debug((sql, params))\n\u001b[32m-> \u001b[39m\u001b[32m3320\u001b[39m \u001b[38;5;28;01mwith\u001b[39;00m __exception_wrapper__:\n\u001b[32m   3321\u001b[39m     cursor = \u001b[38;5;28mself\u001b[39m.cursor()\n\u001b[32m   3322\u001b[39m     cursor.execute(sql, params \u001b[38;5;129;01mor\u001b[39;00m ())\n",
      "\u001b[36mFile \u001b[39m\u001b[32m~/.conda/envs/ultra/lib/python3.13/site-packages/peewee.py:3088\u001b[39m, in \u001b[36mExceptionWrapper.__exit__\u001b[39m\u001b[34m(self, exc_type, exc_value, traceback)\u001b[39m\n\u001b[32m   3086\u001b[39m new_type = \u001b[38;5;28mself\u001b[39m.exceptions[exc_type.\u001b[34m__name__\u001b[39m]\n\u001b[32m   3087\u001b[39m exc_args = exc_value.args\n\u001b[32m-> \u001b[39m\u001b[32m3088\u001b[39m \u001b[43mreraise\u001b[49m\u001b[43m(\u001b[49m\u001b[43mnew_type\u001b[49m\u001b[43m,\u001b[49m\u001b[43m \u001b[49m\u001b[43mnew_type\u001b[49m\u001b[43m(\u001b[49m\u001b[43mexc_value\u001b[49m\u001b[43m,\u001b[49m\u001b[43m \u001b[49m\u001b[43m*\u001b[49m\u001b[43mexc_args\u001b[49m\u001b[43m)\u001b[49m\u001b[43m,\u001b[49m\u001b[43m \u001b[49m\u001b[43mtraceback\u001b[49m\u001b[43m)\u001b[49m\n",
      "\u001b[36mFile \u001b[39m\u001b[32m~/.conda/envs/ultra/lib/python3.13/site-packages/peewee.py:196\u001b[39m, in \u001b[36mreraise\u001b[39m\u001b[34m(tp, value, tb)\u001b[39m\n\u001b[32m    194\u001b[39m \u001b[38;5;28;01mdef\u001b[39;00m\u001b[38;5;250m \u001b[39m\u001b[34mreraise\u001b[39m(tp, value, tb=\u001b[38;5;28;01mNone\u001b[39;00m):\n\u001b[32m    195\u001b[39m     \u001b[38;5;28;01mif\u001b[39;00m value.__traceback__ \u001b[38;5;129;01mis\u001b[39;00m \u001b[38;5;129;01mnot\u001b[39;00m tb:\n\u001b[32m--> \u001b[39m\u001b[32m196\u001b[39m         \u001b[38;5;28;01mraise\u001b[39;00m value.with_traceback(tb)\n\u001b[32m    197\u001b[39m     \u001b[38;5;28;01mraise\u001b[39;00m value\n",
      "\u001b[36mFile \u001b[39m\u001b[32m~/.conda/envs/ultra/lib/python3.13/site-packages/peewee.py:3322\u001b[39m, in \u001b[36mDatabase.execute_sql\u001b[39m\u001b[34m(self, sql, params, commit)\u001b[39m\n\u001b[32m   3320\u001b[39m \u001b[38;5;28;01mwith\u001b[39;00m __exception_wrapper__:\n\u001b[32m   3321\u001b[39m     cursor = \u001b[38;5;28mself\u001b[39m.cursor()\n\u001b[32m-> \u001b[39m\u001b[32m3322\u001b[39m     \u001b[43mcursor\u001b[49m\u001b[43m.\u001b[49m\u001b[43mexecute\u001b[49m\u001b[43m(\u001b[49m\u001b[43msql\u001b[49m\u001b[43m,\u001b[49m\u001b[43m \u001b[49m\u001b[43mparams\u001b[49m\u001b[43m \u001b[49m\u001b[38;5;129;43;01mor\u001b[39;49;00m\u001b[43m \u001b[49m\u001b[43m(\u001b[49m\u001b[43m)\u001b[49m\u001b[43m)\u001b[49m\n\u001b[32m   3323\u001b[39m \u001b[38;5;28;01mreturn\u001b[39;00m cursor\n",
      "\u001b[31mOperationalError\u001b[39m: near \"AS\": syntax error"
     ]
    }
   ],
   "source": [
    "# Создаем алиас для таблицы кандидатов (для c2 в оригинальном запросе)\n",
    "Candidats2 = Candidats.alias('c2')\n",
    "\n",
    "subquery = (Candidats\n",
    "           .select(fn.AVG(Candidats.mark))\n",
    "           .where(Candidats.position_id == Positions.id))\n",
    "\n",
    "query = (Candidats\n",
    "    .select(\n",
    "        (Candidats.name + ' ' + Candidats.surname).alias('Candidats_name'),\n",
    "        Positions.name.alias('position_name'),\n",
    "        Candidats.mark.alias('Candidats_mark'),\n",
    "        fn.AVG(Candidats2.mark).alias('avg_position_mark'),\n",
    "        fn.Count(Employees.id).alias('current_employees_in_position')\n",
    "    )\n",
    "    .join(Positions, on=(Candidats.position == Positions.id))\n",
    "    .switch(Candidats)  # Возвращаемся к основной таблице для следующего соединения\n",
    "    .join(Employees, join_type='LEFT', on=(Employees.position == Positions.id))\n",
    "    .switch(Candidats)  # Возвращаемся к основной таблице\n",
    "    .join(Candidats2, on=(Candidats2.position == Positions.id))\n",
    "    .group_by(Candidats.id)\n",
    "    .having(Candidats.mark > subquery)\n",
    "    .order_by(Candidats.mark.desc())\n",
    ")\n",
    "\n",
    "# Для выполнения запроса\n",
    "results = list(query.dicts())"
   ]
  },
  {
   "cell_type": "markdown",
   "id": "836f70fc",
   "metadata": {},
   "source": [
    "list(cursor.execute('''\\\n",
    "SELECT \\\n",
    "    s.name AS spaceship_name,\\\n",
    "    SUM(p.price * r.count) AS total_maintenance_cost\\\n",
    "FROM spaceships s\\\n",
    "JOIN maintain_tickets mt ON s.id = mt.spaceship_id\\\n",
    "JOIN reasons r ON mt.reason_id = r.id\\\n",
    "JOIN products p ON r.product_id = p.id\\\n",
    "GROUP BY s.id\\\n",
    "ORDER BY total_maintenance_cost DESC;\\\n",
    "               \n",
    "                    \n",
    "'''))"
   ]
  },
  {
   "cell_type": "code",
   "execution_count": null,
   "id": "ad46e2e1",
   "metadata": {},
   "outputs": [],
   "source": []
  },
  {
   "cell_type": "markdown",
   "id": "ac73a6bb",
   "metadata": {},
   "source": [
    "list(cursor.execute('''\\\n",
    "SELECT \\\n",
    "    a.name AS airport_name,\\\n",
    "    COUNT(t.id) AS tour_count,\\\n",
    "    GROUP_CONCAT(DISTINCT so.name) AS space_objects,\\\n",
    "    SUM(s.human_places) AS total_passenger_capacity\\\n",
    "FROM airports a\\\n",
    "JOIN tours t ON a.id = t.airport_id\\\n",
    "JOIN space_objects so ON t.obj_id = so.id\\\n",
    "JOIN spaceships s ON t.spaceship_id = s.id\\\n",
    "GROUP BY a.id\\\n",
    "ORDER BY tour_count DESC;\\\n",
    "                    \n",
    "'''))"
   ]
  },
  {
   "cell_type": "code",
   "execution_count": null,
   "id": "f4434282",
   "metadata": {},
   "outputs": [],
   "source": []
  }
 ],
 "metadata": {
  "kernelspec": {
   "display_name": "ultra",
   "language": "python",
   "name": "python3"
  },
  "language_info": {
   "codemirror_mode": {
    "name": "ipython",
    "version": 3
   },
   "file_extension": ".py",
   "mimetype": "text/x-python",
   "name": "python",
   "nbconvert_exporter": "python",
   "pygments_lexer": "ipython3",
   "version": "3.13.2"
  }
 },
 "nbformat": 4,
 "nbformat_minor": 5
}
